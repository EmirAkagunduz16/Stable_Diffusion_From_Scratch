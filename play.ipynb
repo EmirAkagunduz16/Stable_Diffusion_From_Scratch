{
 "cells": [
  {
   "cell_type": "code",
   "execution_count": 2,
   "metadata": {},
   "outputs": [
    {
     "name": "stdout",
     "output_type": "stream",
     "text": [
      "Weight shape: torch.Size([9, 3])\n",
      "Bias shape: torch.Size([9])\n"
     ]
    }
   ],
   "source": [
    "import torch.nn as nn\n",
    "import torch\n",
    "d_embed = 3\n",
    "in_proj = nn.Linear(d_embed, 3 * d_embed)\n",
    "\n",
    "# Ağırlıkların şekline bakma\n",
    "print(\"Weight shape:\", in_proj.weight.shape)\n",
    "\n",
    "# Bias varsa, onun şekline bakma\n",
    "if in_proj.bias is not None:\n",
    "    print(\"Bias shape:\", in_proj.bias.shape)\n"
   ]
  },
  {
   "cell_type": "code",
   "execution_count": 20,
   "metadata": {},
   "outputs": [
    {
     "data": {
      "text/plain": [
       "torch.Size([1, 1280, 1, 1])"
      ]
     },
     "execution_count": 20,
     "metadata": {},
     "output_type": "execute_result"
    }
   ],
   "source": [
    "tensor = torch.Tensor(1, 1280)\n",
    "tensor = tensor.unsqueeze(-1).unsqueeze(-1)\n",
    "\n",
    "tensor.shape"
   ]
  },
  {
   "cell_type": "code",
   "execution_count": null,
   "metadata": {},
   "outputs": [],
   "source": []
  }
 ],
 "metadata": {
  "kernelspec": {
   "display_name": "Python 3",
   "language": "python",
   "name": "python3"
  },
  "language_info": {
   "codemirror_mode": {
    "name": "ipython",
    "version": 3
   },
   "file_extension": ".py",
   "mimetype": "text/x-python",
   "name": "python",
   "nbconvert_exporter": "python",
   "pygments_lexer": "ipython3",
   "version": "3.9.13"
  }
 },
 "nbformat": 4,
 "nbformat_minor": 2
}
